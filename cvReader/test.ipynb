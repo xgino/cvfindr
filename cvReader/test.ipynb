{
 "cells": [
  {
   "cell_type": "markdown",
   "metadata": {},
   "source": [
    "# Project CV Extractor"
   ]
  },
  {
   "cell_type": "markdown",
   "metadata": {},
   "source": [
    "Project todo\n",
    "\n",
    "Tip - use NER + Spacy\n",
    "\n",
    "`- [X]` What do we want to extract from the cv? all of the csv. Name job skills ect.\n",
    "    - First name: \n",
    "    - last Name,\n",
    "    - Phone: \n",
    "    - Email:\n",
    "    - Motivations Text:\n",
    "    - Educations: get the courses or Univercities been too. Just names of the places\n",
    "    - Academy, His diploma, certificates of courses.\n",
    "    - Skills / strengths:\n",
    "    - Language:\n",
    "    - Adress:\n",
    "\n",
    "`- [X]` Where do we get the data to work with? - Downloaded form kaggle -> `https://www.kaggle.com/datasets/ranaelmahmoudy/curriculum-vitae-data-pdf?resource=download`\n",
    "\n",
    "`- [ ]` Convert PDF into Txt\n",
    "\n",
    "\n"
   ]
  },
  {
   "cell_type": "code",
   "execution_count": 1,
   "metadata": {},
   "outputs": [],
   "source": [
    "import PyPDF2\n",
    "import pandas as pd\n",
    "import spacy\n",
    "from spacy.matcher import Matcher\n",
    "import re\n",
    "import random\n",
    "import os"
   ]
  },
  {
   "cell_type": "code",
   "execution_count": 2,
   "metadata": {},
   "outputs": [],
   "source": [
    "def extract_text_from_pdf(pdf_file_path):\n",
    "    text = \"\"\n",
    "    with open(pdf_file_path, \"rb\") as f:\n",
    "        pdf_reader = PyPDF2.PdfReader(f)\n",
    "        num_pages = len(pdf_reader.pages)\n",
    "        for page_num in range(num_pages):\n",
    "            page = pdf_reader.pages[page_num]\n",
    "            text += page.extract_text()\n",
    "    return text"
   ]
  },
  {
   "cell_type": "code",
   "execution_count": 3,
   "metadata": {},
   "outputs": [
    {
     "name": "stdout",
     "output_type": "stream",
     "text": [
      "Personal \n",
      "InformationCURRICULUM VITAE\n",
      "FullNames: Mike KisasatiWanaswa\n",
      "IDCardNo.22859930\n",
      "PostalAddress: P.O. Box 85575 80100 Mombasa\n",
      "TelephoneNo.0717 550926\n",
      "EmailAddress:mikewanaswa@gmail.co\n",
      "mLanguages : Well spoken English and \n",
      "SwahiliPurpose\n",
      "To put in use the latest inventions in Telecommunication and Information Technology for a \n",
      "positive impact\n",
      "in Individuals, Business Enterprises and Corporate Organizations.\n",
      "Work Experience\n",
      "Date :April 2011 – To Date\n",
      "Position :Fixed Data Network Technician\n",
      "Employer :Ben’s Electronics Services Ltd, Mombasa\n",
      "Duties : Survey, Installation, Integration, Maintenance, Support and \n",
      "Decommissioning of Fixed Data Services using various Access\n",
      "Technologies (WIMAX, FIBER, MICROWAVES and Wi-Fi) for \n",
      "SafaricomLtd.\n",
      ": Survey, Installation and Support of Ceragon’s IP20 Access Technology for \n",
      "Airtel (K)\n",
      ": Survey , Installation and Support of Cambridge P2MP Solutions for \n",
      "Safaricom.\n",
      ": Fiber Optics Splicing and terminations, deployment, support and \n",
      "maintenance\n",
      ": WAN/LAN Design, installation and Technical Support (Structured Cabling)\n",
      ": Installation and support for CCTV, IP Cameras, Biometrics Security Controls.\n",
      ": Installation and Support for RADWIN P2P Links and Ceragon PTMP,Links.\n",
      ": Installation and support for Telrad Wimax BTS\n",
      ": WI-FI setup, maintenance and Support.\n",
      ": E1 and SIP/VoIP installation and support\n",
      ": Systems Integration on Cisco, HP and Huawei Platforms for \n",
      "MPLS, P2P,VPN and Internet.\n",
      ": Fixed LTE installation for Safaricom’s Enterprise clients.\n",
      "Date :September 2010 - April 2011\n",
      "Position :Freelance Computer Technician\n",
      "Employer : Self Employed in Mombasa\n",
      "Duties : Installation of software and hardware for PCs, Servers, Printers.\n",
      ": Web design and website maintenance.\n",
      ": Repair of PCs, Printers, Scanners and other computer accessories\n",
      ": LAN/WAN design, installation and support.\n",
      "Date :March 2010 – August 2010\n",
      "Position :Scanning Officer/System Administrator\n",
      "Employer : Interim Independent Electoral Commission\n",
      "Duties : Scanning of OMR Forms to extract data for the voters\n",
      ": Creation and maintenance of Voters’ database/Register\n",
      ": End User training and support on Voter Management System\n",
      ": MMC Administration/ Mail servers administration.\n",
      ": Network Management & Data Recovery\n",
      ": Repair and maintenance of Scanner, printers and Computers.\n",
      "Date : January 2009 - March 2010\n",
      "Position :Freelance Computer T e c h n i c i a n\n",
      "Duties : Installation of software and hardware for PCs, Servers, Printers.\n",
      ": Repair of PCs, Printers, Scanners and other computer accessories\n",
      ": LAN/WAN Support.\n",
      "Educational Background\n",
      "Date : September 2007 – December 2008\n",
      "Institution : Inoorero University ( Kenya School of Professional \n",
      "studies) - NairobiCourse: Diploma in Computer Engineering, System \n",
      "Administration and Support Grade:Credit\n",
      "Date : Feb 1997 – November 2000\n",
      "Institution : Bungoma High School, Bungoma\n",
      "Grade :KCSE Mean Grade B- ( M i n u s )\n",
      "Date : Jan 1989 – December 1996\n",
      "Institution : Bungoma DEB Primary School, Bungoma\n",
      "Grade :KCPE 444 out of 700 Marks\n",
      "Professional Trainings\n",
      "Date : July2018\n",
      "Institution : AmiranCommunications\n",
      "Course : Radwin Installer , P2P, P2MP\n",
      "Grade :Distinction\n",
      "Date : March2018\n",
      "Institution : Cambridge Broadband Networks Kenya Ltd\n",
      "Course : VectarStarInstallation.\n",
      "Grade :Distinction\n",
      "Date : Jan2018\n",
      "Institution : CeragonNetworks\n",
      "Course : Ceragon Certified Rollout Professional IP20C/S/E/N\n",
      "Grade :Distinction\n",
      "Date : June2017\n",
      "Institution : E Learning -Ruckus\n",
      "Course : Ruckus Wireless Certified Associate – Support Engineer (RWCA-SupE)\n",
      "Grade :Distinction\n",
      "Date : Jan 2017 to Mar 2017\n",
      "Institution : IATMombasa\n",
      "Course :CCNA\n",
      "Grade :DistinctionDate : July2015\n",
      "Institution : Viscar Industrial Capacity Ltd\n",
      "Course : Fall Arrest Technician/Work at Height\n",
      "Grade :Distinction\n",
      "Note: Am in possession of a clean Class BCE\n",
      "Driving license Referees\n",
      "Patrick Odame\n",
      "Regional Election Coordinator, Bungoma\n",
      "P.O. Box 2568, 50200, \n",
      "Bungoma Phone No. 0720 \n",
      "255 \n",
      "059snyodame@yahoo.co.u\n",
      "k\n",
      "Cyrus Soi\n",
      "Projects Manager, Bens Electronics\n",
      "P. O. Box 726 , 80100 \n",
      "Mombasa Phone \n",
      "0710466547info@bensele\n",
      "ctronics.co.ke\n",
      "Christine Owuor\n",
      "Fixed Access Engineer, \n",
      "Safaricom P O. Box 66827 \n",
      "00800 Nairobi\n",
      "Phone No. 0724 360 530\n",
      "cowuor@safaricom.co.ke\n",
      "Kelvin Ongoro\n",
      "Field Engineer,Safaricom.\n",
      "P.O. Box 66827 00800 \n",
      "Nairobi Phone 0724619 \n",
      "217kongoro@safaricom\n",
      ".co.ke\n"
     ]
    }
   ],
   "source": [
    "pdf_file_path = \"./data/pdf/1.pdf\"  # Replace with the path to your PDF file\n",
    "text_content = extract_text_from_pdf(pdf_file_path)\n",
    "print(text_content)"
   ]
  },
  {
   "cell_type": "code",
   "execution_count": 4,
   "metadata": {},
   "outputs": [],
   "source": [
    "#!python -m spacy download en_core_web_sm"
   ]
  },
  {
   "cell_type": "code",
   "execution_count": 10,
   "metadata": {},
   "outputs": [],
   "source": [
    "def extract_full_name(text_content):\n",
    "    nlp = spacy.load(\"en_core_web_sm\")\n",
    "    doc = nlp(text_content)\n",
    "\n",
    "    full_name = None\n",
    "\n",
    "    # Define keywords that might precede the full name\n",
    "    preceding_keywords = [\"Name:\", \"Full Name:\", \"FullNames\", \"Ful Namess\", \"FullNames\", \"Ful Namess\", \"FullNames\"]\n",
    "\n",
    "    for token in doc:\n",
    "        if token.text in preceding_keywords:\n",
    "            # Check if the next token is a proper noun (likely the full name)\n",
    "            if token.i < len(doc) - 1 and doc[token.i + 1].pos_ == \"PROPN\":\n",
    "                full_name = doc[token.i + 1:].text.strip()\n",
    "                break\n",
    "\n",
    "    return full_name"
   ]
  },
  {
   "cell_type": "code",
   "execution_count": 11,
   "metadata": {},
   "outputs": [],
   "source": [
    "columns = [\"Full Name\", \"Phone\", \"Email\", \"Motivations Text\", \n",
    "           \"Educations\", \"Academy\", \"Skills / strengths\", \"Language\", \"Address\"]\n",
    "df = pd.DataFrame(columns=columns)"
   ]
  },
  {
   "cell_type": "code",
   "execution_count": 12,
   "metadata": {},
   "outputs": [],
   "source": [
    "# Initialize an empty list to store the extracted entities\n",
    "data = []\n",
    "\n",
    "for num in range(0, 5):\n",
    "    cv_txt = f\"./data/pdf/{num}.pdf\"  # Replace with the path to your PDF file\n",
    "    \n",
    "    # Check if the PDF file exists\n",
    "    if os.path.exists(cv_txt):\n",
    "        # Extract text content from the PDF\n",
    "        text_content = extract_text_from_pdf(cv_txt)\n",
    "\n",
    "        # Extract information from the text content\n",
    "        entities = extract_full_name(text_content)\n",
    "\n",
    "        # Append the extracted information to the DataFrame\n",
    "        data.append(entities)\n",
    "\n",
    "df = pd.DataFrame(data)"
   ]
  },
  {
   "cell_type": "code",
   "execution_count": 13,
   "metadata": {},
   "outputs": [
    {
     "data": {
      "text/html": [
       "<div>\n",
       "<style scoped>\n",
       "    .dataframe tbody tr th:only-of-type {\n",
       "        vertical-align: middle;\n",
       "    }\n",
       "\n",
       "    .dataframe tbody tr th {\n",
       "        vertical-align: top;\n",
       "    }\n",
       "\n",
       "    .dataframe thead th {\n",
       "        text-align: right;\n",
       "    }\n",
       "</style>\n",
       "<table border=\"1\" class=\"dataframe\">\n",
       "  <thead>\n",
       "    <tr style=\"text-align: right;\">\n",
       "      <th></th>\n",
       "      <th>0</th>\n",
       "    </tr>\n",
       "  </thead>\n",
       "  <tbody>\n",
       "    <tr>\n",
       "      <th>0</th>\n",
       "      <td>None</td>\n",
       "    </tr>\n",
       "    <tr>\n",
       "      <th>1</th>\n",
       "      <td>None</td>\n",
       "    </tr>\n",
       "    <tr>\n",
       "      <th>2</th>\n",
       "      <td>None</td>\n",
       "    </tr>\n",
       "    <tr>\n",
       "      <th>3</th>\n",
       "      <td>None</td>\n",
       "    </tr>\n",
       "  </tbody>\n",
       "</table>\n",
       "</div>"
      ],
      "text/plain": [
       "      0\n",
       "0  None\n",
       "1  None\n",
       "2  None\n",
       "3  None"
      ]
     },
     "execution_count": 13,
     "metadata": {},
     "output_type": "execute_result"
    }
   ],
   "source": [
    "df"
   ]
  },
  {
   "cell_type": "code",
   "execution_count": null,
   "metadata": {},
   "outputs": [],
   "source": [
    "num = random.randint(1, 3250)\n",
    "print(num)\n",
    "cv_txt = f\"./data/pdf/{num}.pdf\"  # Replace with the path to your PDF file\n",
    "text_content = extract_text_from_pdf(cv_txt)"
   ]
  },
  {
   "cell_type": "code",
   "execution_count": null,
   "metadata": {},
   "outputs": [],
   "source": [
    "entities = extract_information(text_content)\n",
    "df = pd.DataFrame.from_dict(entities, orient='index').T\n",
    "df.shape"
   ]
  },
  {
   "cell_type": "code",
   "execution_count": null,
   "metadata": {},
   "outputs": [],
   "source": [
    "df"
   ]
  },
  {
   "cell_type": "code",
   "execution_count": null,
   "metadata": {},
   "outputs": [],
   "source": []
  }
 ],
 "metadata": {
  "kernelspec": {
   "display_name": "base",
   "language": "python",
   "name": "python3"
  },
  "language_info": {
   "codemirror_mode": {
    "name": "ipython",
    "version": 3
   },
   "file_extension": ".py",
   "mimetype": "text/x-python",
   "name": "python",
   "nbconvert_exporter": "python",
   "pygments_lexer": "ipython3",
   "version": "3.11.5"
  }
 },
 "nbformat": 4,
 "nbformat_minor": 2
}
